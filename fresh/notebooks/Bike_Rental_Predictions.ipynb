{
 "cells": [
  {
   "cell_type": "markdown",
   "metadata": {},
   "source": [
    "## Bike-rental volume prediction"
   ]
  },
  {
   "cell_type": "markdown",
   "metadata": {},
   "source": [
    "The purpose of this notebook is to provide an illustration of how the freshq algorithm can be implemented to aid in the forecasting the value of a target variable without the implementation of data rolling and for data which contains inconsistent evenly spaced data points."
   ]
  },
  {
   "cell_type": "markdown",
   "metadata": {},
   "source": [
    "## Loading library scripts and data"
   ]
  },
  {
   "cell_type": "markdown",
   "metadata": {},
   "source": [
    "In the following cell the functions related to the FRESH library are loaded in the 1st line while preprocessing functions used within the notebook are loaded from the folder mlutils"
   ]
  },
  {
   "cell_type": "code",
   "execution_count": 2,
   "metadata": {},
   "outputs": [],
   "source": [
    "\\l ../../ml.q\n",
    ".ml.loadfile`:init.q\n",
    "\\l graphics.q\n",
    "\\c 15 100"
   ]
  },
  {
   "cell_type": "markdown",
   "metadata": {},
   "source": [
    "Load in data pertaining to a bike sharing scheme in Washington DC between 2011-2012 (This data was obtained from kaggle at: https://www.kaggle.com/marklvl/bike-sharing-dataset).\n",
    "\n",
    "Our goal is to use the hourly data from the current day to predict if the last hour of the next day will be busier or quieter than the last hour of today.\n",
    "\n",
    "This use case while slightly contrived and chosen to show the operation of this this algorithm, it could potentially useful in allowing an employer to anticipate if extra staff are required for the next business day, which could save on costs."
   ]
  },
  {
   "cell_type": "code",
   "execution_count": 3,
   "metadata": {},
   "outputs": [
    {
     "name": "stdout",
     "output_type": "stream",
     "text": [
      "instant dteday     season yr mnth hr holiday weekday workingday weathersit temp atemp  hum  winds..\n",
      "-------------------------------------------------------------------------------------------------..\n",
      "1       2011.01.01 1      0  1    0  0       6       0          1          0.24 0.2879 0.81 0    ..\n",
      "2       2011.01.01 1      0  1    1  0       6       0          1          0.22 0.2727 0.8  0    ..\n",
      "3       2011.01.01 1      0  1    2  0       6       0          1          0.22 0.2727 0.8  0    ..\n",
      "4       2011.01.01 1      0  1    3  0       6       0          1          0.24 0.2879 0.75 0    ..\n",
      "5       2011.01.01 1      0  1    4  0       6       0          1          0.24 0.2879 0.75 0    ..\n",
      "6       2011.01.01 1      0  1    5  0       6       0          2          0.24 0.2576 0.75 0.089..\n",
      "7       2011.01.01 1      0  1    6  0       6       0          1          0.22 0.2727 0.8  0    ..\n",
      "8       2011.01.01 1      0  1    7  0       6       0          1          0.2  0.2576 0.86 0    ..\n",
      "9       2011.01.01 1      0  1    8  0       6       0          1          0.24 0.2879 0.75 0    ..\n",
      "10      2011.01.01 1      0  1    9  0       6       0          1          0.32 0.3485 0.76 0    ..\n",
      "..\n"
     ]
    }
   ],
   "source": [
    "tabinit:(\"IDIIIIIIIIFFFFIII\";enlist \",\") 0:`:SampleDatasets/bike_rental.csv\n",
    "\n",
    "/drop columns which contain zero variance as these would not be useful for use in a machine learning algorithm.\n",
    "show tabinit:flip (where 0=var each flip tabinit) _ flip tabinit"
   ]
  },
  {
   "cell_type": "markdown",
   "metadata": {},
   "source": [
    "---"
   ]
  },
  {
   "cell_type": "markdown",
   "metadata": {},
   "source": [
    "## Set the target values for forecasting"
   ]
  },
  {
   "cell_type": "markdown",
   "metadata": {},
   "source": [
    "Next we set the target which will be estimated from the dataset. In this case we are attempting to predict if the number of bike rentals in the last hour of business will be higher or lower tomorrow than it was today."
   ]
  },
  {
   "cell_type": "code",
   "execution_count": 4,
   "metadata": {},
   "outputs": [],
   "source": [
    "lasthour:value exec last cnt by dteday from tabinit\n",
    "targets:lasthour>prev lasthour"
   ]
  },
  {
   "cell_type": "markdown",
   "metadata": {},
   "source": [
    "## Naive solution"
   ]
  },
  {
   "cell_type": "markdown",
   "metadata": {},
   "source": [
    "Under the naive solution i.e choosing that the number of rentals price will only ever increase we would be correct ~56% of the time, as such if our procedure and algorithm have provided us with new insights into the data our predictions will be >56% on a consistent basis. "
   ]
  },
  {
   "cell_type": "code",
   "execution_count": 5,
   "metadata": {},
   "outputs": [
    {
     "data": {
      "text/plain": [
       "target| num pcnt    \n",
       "------| ------------\n",
       "0     | 319 43.63885\n",
       "1     | 412 56.36115\n"
      ]
     },
     "execution_count": 5,
     "metadata": {},
     "output_type": "execute_result"
    }
   ],
   "source": [
    "update pcnt:100*num%sum num from select num:count i by target from ([]target:targets)"
   ]
  },
  {
   "cell_type": "markdown",
   "metadata": {},
   "source": [
    "## Assign extracted features and complete extraction"
   ]
  },
  {
   "cell_type": "code",
   "execution_count": 6,
   "metadata": {},
   "outputs": [
    {
     "name": "stdout",
     "output_type": "stream",
     "text": [
      "absenergy     | {x wsum x}\n",
      "abssumchange  | {sum abs 1_deltas x}\n",
      "count         | {count x}\n",
      "countabovemean| {sum x>avg x}\n",
      "countbelowmean| {sum x<avg x}\n",
      "firstmax      | {(x?max x)%count x}\n",
      "firstmin      | {(x?min x)%count x}\n",
      "hasdup        | {count[x]<>count distinct x}\n",
      "hasdupmax     | {1<sum x=max x}\n",
      "hasdupmin     | {1<sum x=min x}\n",
      "kurtosis      | {((n-1)%(n-2)*n-3)*((n+1)*n*sum[k2*k2]%\n",
      " \t     s*s:sum k2:k*k:x-avg x)+3*1-n:coun..\n",
      "lastmax       | {(last where x=max x)%count x}\n",
      "..\n"
     ]
    },
    {
     "data": {
      "text/plain": [
       "2797\n"
      ]
     },
     "execution_count": 6,
     "metadata": {},
     "output_type": "execute_result"
    },
    {
     "name": "stdout",
     "output_type": "stream",
     "text": [
      "dteday    | absenergy_season absenergy_yr absenergy_mnth absenergy_hr absenergy_holiday absenergy..\n",
      "----------| -------------------------------------------------------------------------------------..\n",
      "2011.01.01| 24               0            24             4324         0                 864      ..\n",
      "2011.01.02| 23               0            23             4299         0                 0        ..\n",
      "2011.01.03| 22               0            22             4311         0                 22       ..\n",
      "2011.01.04| 23               0            23             4315         0                 92       ..\n",
      "2011.01.05| 23               0            23             4315         0                 207      ..\n",
      "2011.01.06| 23               0            23             4315         0                 368      ..\n",
      "2011.01.07| 23               0            23             4315         0                 575      ..\n",
      "2011.01.08| 24               0            24             4324         0                 864      ..\n",
      "2011.01.09| 24               0            24             4324         0                 0        ..\n",
      "2011.01.10| 24               0            24             4324         0                 24       ..\n",
      "..\n",
      "The number of rows in the data is: 731\n",
      "The number of targets which are to be predicted is: 731\n"
     ]
    }
   ],
   "source": [
    "/ in this example we look only at features of the data alone with no parameters\n",
    "\n",
    "show singleinputfeatures:.ml.fresh.getsingleinputfeatures[]\n",
    "\n",
    "\\t tabraw:.ml.fresh.createfeatures[tabinit;`dteday;2_ cols tabinit;singleinputfeatures]\n",
    "show tabraw\n",
    "-1\"The number of rows in the data is: \",string count tabraw;\n",
    "-1\"The number of targets which are to be predicted is: \",string count lasthour;"
   ]
  },
  {
   "cell_type": "markdown",
   "metadata": {},
   "source": [
    "## Complete feature significance tests"
   ]
  },
  {
   "cell_type": "markdown",
   "metadata": {},
   "source": [
    "Upon completion of the feature extraction algorithm the importance of each of the features can be determined through the statistical tests contained in the .fresh.significantfeatures function. This will reduce the number of features used by the machine learning algorithm in making its prediction."
   ]
  },
  {
   "cell_type": "code",
   "execution_count": 7,
   "metadata": {},
   "outputs": [
    {
     "name": "stdout",
     "output_type": "stream",
     "text": [
      "dteday    | absenergy_weekday absenergy_workingday absenergy_casual absenergy_registered absenerg..\n",
      "----------| -------------------------------------------------------------------------------------..\n",
      "2011.01.01| 864               0                    9371             28260                67473   ..\n",
      "2011.01.02| 0                 0                    1607             32820                47413   ..\n",
      "2011.01.03| 22                22                   1188             113917               132713  ..\n",
      "2011.01.04| 92                23                   1268             166348               184990  ..\n",
      "2011.01.05| 207               23                   542              172722               186408  ..\n",
      "2011.01.06| 368               23                   708              169622               185510  ..\n",
      "2011.01.07| 575               23                   1708             141026               167920  ..\n",
      "2011.01.08| 864               0                    442              52931                62251   ..\n",
      "2011.01.09| 0                 0                    368              42182                49028   ..\n",
      "2011.01.10| 24                24                   127              134312               140869  ..\n",
      "..\n",
      "The number of columns in the initial dataset is: 17\n",
      "The number of columns in the unfiltered dataset is: 541\n",
      "The number of columns in the filtered dataset is: 103\n"
     ]
    }
   ],
   "source": [
    "show tabreduced:key[tabraw]!(.ml.fresh.significantfeatures[t;targets])#t:value tabraw\n",
    "-1 \"The number of columns in the initial dataset is: \",string count cols tabinit;\n",
    "-1 \"The number of columns in the unfiltered dataset is: \",string count cols tabraw;\n",
    "-1 \"The number of columns in the filtered dataset is: \",string count cols tabreduced;"
   ]
  },
  {
   "cell_type": "markdown",
   "metadata": {},
   "source": [
    "### Data formatting"
   ]
  },
  {
   "cell_type": "markdown",
   "metadata": {},
   "source": [
    "The data must now be converted to a matrix from a table in order to allow it to be passed to a machine learning algorithm for training."
   ]
  },
  {
   "cell_type": "code",
   "execution_count": 8,
   "metadata": {},
   "outputs": [],
   "source": [
    "mattab:{flip value flip x}\n",
    "fitvalsfilter:0^mattab[value tabreduced]"
   ]
  },
  {
   "cell_type": "markdown",
   "metadata": {},
   "source": [
    "---"
   ]
  },
  {
   "cell_type": "markdown",
   "metadata": {},
   "source": [
    "## Training the model"
   ]
  },
  {
   "cell_type": "markdown",
   "metadata": {},
   "source": [
    "Below we initialize the model with a random forest classifier with 200 estimators, this allows for an estimate of the quality of the data to be made following the completion of feature extraction. The addition of ``` `verbose pykw 1 ``` to the definition of the Random Forest Classifier allows for the time required for the training of the classifier to be displayed if desired."
   ]
  },
  {
   "cell_type": "code",
   "execution_count": 10,
   "metadata": {},
   "outputs": [],
   "source": [
    "clf:.p.import[`sklearn.ensemble][`:RandomForestClassifier][`n_estimators pykw 200;`random_state pykw 42]\n",
    "classreport:.p.import[`sklearn.metrics]`:classification_report"
   ]
  },
  {
   "cell_type": "markdown",
   "metadata": {},
   "source": [
    "### Fit data to the models and make predictions"
   ]
  },
  {
   "cell_type": "code",
   "execution_count": 11,
   "metadata": {},
   "outputs": [],
   "source": [
    "seed:\"i\"$.z.t\n",
    "dict1:.ml.util.traintestsplitseed[fitvalsfilter;targets;0.2;seed];\n",
    "\n",
    "clf[`:fit][dict1[`xtrain];dict1[`ytrain]]`;\n",
    "pred1:clf[`:predict][dict1[`xtest]]`\n"
   ]
  },
  {
   "cell_type": "markdown",
   "metadata": {},
   "source": [
    "## Results"
   ]
  },
  {
   "cell_type": "markdown",
   "metadata": {},
   "source": [
    "Given that predictions of the classifications given to the whether or not the last hour of work tomorrow will be busier than today are being made ."
   ]
  },
  {
   "cell_type": "code",
   "execution_count": 12,
   "metadata": {},
   "outputs": [
    {
     "name": "stdout",
     "output_type": "stream",
     "text": [
      "             precision    recall  f1-score   support\n",
      "\n",
      "      False       0.85      0.69      0.76        67\n",
      "       True       0.77      0.90      0.83        80\n",
      "\n",
      "avg / total       0.81      0.80      0.80       147\n",
      "\n",
      "The number of misclassifications in the filtered dataset is: 29\n",
      "The accuracy in the filtered dataset is: 0.8027211\n",
      "_______________________________________________________________\n"
     ]
    }
   ],
   "source": [
    "print classreport[dict1[`ytest];pred1]`\n",
    "-1\"The number of misclassifications in the filtered dataset is: \",string sum dict1[`ytest]<>pred1;\n",
    "-1\"The accuracy in the filtered dataset is: \",string .ml.accuracy[dict1[`ytest];pred1];\n",
    "-1\"_______________________________________________________________\";"
   ]
  },
  {
   "cell_type": "code",
   "execution_count": 13,
   "metadata": {},
   "outputs": [
    {
     "name": "stdout",
     "output_type": "stream",
     "text": [
      "0| 46 8 \n",
      "1| 21 72\n"
     ]
    },
    {
     "data": {
      "image/png": "[encoded data removed]",
      "text/plain": [
       "<Figure size 720x720 with 1 Axes>"
      ]
     },
     "metadata": {},
     "output_type": "display_data"
    }
   ],
   "source": [
    "show cnfM:.ml.cfm[dict1[`ytest];pred1]\n",
    ".ml.displayCM[value cnfM;`Low`High;\"Test Set Confusion Matrix\";()]"
   ]
  },
  {
   "cell_type": "markdown",
   "metadata": {},
   "source": [
    "## Conclusions"
   ]
  },
  {
   "cell_type": "markdown",
   "metadata": {},
   "source": [
    "In conclusion as can be seen from the above results the use of a random forest classifier was useful in allowing for the classification of next day last hour business vs previous day, to be more consistent than simply choosing one case to always be true.\n",
    "\n",
    "It should also be noted that the quality of results garnered from the running of the classifications depends on the location that the data is split. This is an inherent problem in predicting on human behaviour influenced systems as it is difficult to predict on outlying cases which have a non repeating signature."
   ]
  },
  {
   "cell_type": "markdown",
   "metadata": {},
   "source": [
    "---"
   ]
  }
 ],
 "metadata": {
  "kernelspec": {
   "display_name": "Q (kdb+)",
   "language": "q",
   "name": "qpk"
  },
  "language_info": {
   "file_extension": ".q",
   "mimetype": "text/x-q",
   "name": "q",
   "version": "3.6.0"
  }
 },
 "nbformat": 4,
 "nbformat_minor": 2
}
